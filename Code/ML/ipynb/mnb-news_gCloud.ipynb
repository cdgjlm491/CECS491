{
 "cells": [
  {
   "cell_type": "code",
   "execution_count": null,
   "metadata": {},
   "outputs": [],
   "source": [
    "# https://www.kaggle.com/kinguistics/classifying-news-headlines-with-scikit-learn/notebook\n",
    "#import matplotlib.pyplot as plt\n",
    "import numpy as np\n",
    "import pandas as pd\n",
    "import re\n",
    "\n",
    "import pickle\n",
    "#import sklearn.externals\n",
    "#import joblib\n",
    "\n",
    "#from joblib import dump, load\n",
    "#from sklearn.externals import joblib\n",
    "from sklearn.feature_extraction.text import CountVectorizer\n",
    "from sklearn.model_selection import train_test_split\n",
    "from sklearn.naive_bayes import MultinomialNB\n",
    "from sklearn.preprocessing import LabelEncoder\n",
    "#from wordcloud import ImageColorGenerator, STOPWORDS, WordCloud"
   ]
  },
  {
   "cell_type": "code",
   "execution_count": null,
   "metadata": {},
   "outputs": [],
   "source": [
    "# read to dataframe\n",
    "news = pd.read_json(\"news_v02.json\")\n",
    "\n",
    "print(\"title count:\", len(news))\n",
    "print(news.groupby([\"topic\"]).count())\n",
    "news.sample(10)"
   ]
  },
  {
   "cell_type": "code",
   "execution_count": null,
   "metadata": {},
   "outputs": [],
   "source": [
    "def normalize_text(s):\n",
    "    s = s.lower()\n",
    "    \n",
    "    # remove punctuation that is not word-internal (e.g., hyphens, apostrophes)\n",
    "    s = re.sub('\\s\\W',' ',s)\n",
    "    s = re.sub('\\W\\s',' ',s)\n",
    "    \n",
    "    # make sure we didn't introduce any double spaces\n",
    "    s = re.sub('\\s+',' ',s)\n",
    "    \n",
    "    return s\n",
    "\n",
    "news['text'] = [normalize_text(s) for s in news['title']]\n",
    "print(\"done normalizing text\")\n",
    "news.sample(10)"
   ]
  },
  {
   "cell_type": "code",
   "execution_count": null,
   "metadata": {},
   "outputs": [],
   "source": [
    "# pull the data into vectors\n",
    "vectorizer = CountVectorizer()\n",
    "x = vectorizer.fit_transform(news['text'])\n",
    "# persist vectorizer\n",
    "with open(\"pkl-vectorizer.pkl\", 'wb') as file :\n",
    "    pickle.dump(vectorizer, file)\n",
    "#joblib.dump(vectorizer, \"vectorizer.joblib\")\n",
    "#\n",
    "#vocab = vectorizer.vocabulary_\n",
    "#print(vocab)\n",
    "\n",
    "encoder = LabelEncoder()\n",
    "y = encoder.fit_transform(news['topic'])\n",
    "\n",
    "# split into train and test sets\n",
    "x_train, x_test, y_train, y_test = train_test_split(x, y, test_size=0.2)\n",
    "#print(x_test.shape)\n",
    "\n",
    "print(\"DONE vectorizing text\")"
   ]
  },
  {
   "cell_type": "code",
   "execution_count": null,
   "metadata": {
    "scrolled": true
   },
   "outputs": [],
   "source": [
    "nb = MultinomialNB()\n",
    "nb.fit(x_train, y_train)\n",
    "\n",
    "# save model\n",
    "with open(\"model.pkl\", 'wb') as model_file :\n",
    "    pickle.dump(nb, model_file)\n",
    "#joblib.dump(nb, \"mnb-news_gCloud.joblib\")\n",
    "\n",
    "# load model\n",
    "'''nb_load = joblib.load(\"mnb-news_gCloud.joblib\")\n",
    "\n",
    "print(nb_load.score(x_test, y_test))\n",
    "'''\n",
    "print(\"\\nDONE!\")"
   ]
  },
  {
   "cell_type": "code",
   "execution_count": null,
   "metadata": {},
   "outputs": [],
   "source": [
    "# wordcloud\n",
    "text = [key for key in vocab]\n",
    "text = \" \".join(text)\n",
    "stop = set(STOPWORDS)\n",
    "stop.add(\"will\")\n",
    "wordcloud = WordCloud(stopwords = stop, background_color = \"white\").generate(text)\n",
    "\n",
    "plt.imshow(wordcloud, interpolation = \"bilinear\")\n",
    "plt.axis(\"off\")\n",
    "plt.show()"
   ]
  }
 ],
 "metadata": {
  "kernelspec": {
   "display_name": "Python 3",
   "language": "python",
   "name": "python3"
  },
  "language_info": {
   "codemirror_mode": {
    "name": "ipython",
    "version": 3
   },
   "file_extension": ".py",
   "mimetype": "text/x-python",
   "name": "python",
   "nbconvert_exporter": "python",
   "pygments_lexer": "ipython3",
   "version": "3.7.6"
  }
 },
 "nbformat": 4,
 "nbformat_minor": 2
}
