{
 "cells": [
  {
   "cell_type": "code",
   "execution_count": 26,
   "metadata": {},
   "outputs": [
    {
     "name": "stdout",
     "output_type": "stream",
     "text": [
      "\n",
      "DONE\n"
     ]
    }
   ],
   "source": [
    "import joblib\n",
    "import json\n",
    "import numpy\n",
    "\n",
    "titles = [\n",
    "    \"LA County Beaches to Stay Open for Labor Day\", \n",
    "    \"Video shows fatal OIS of California man that sparked protests\",\n",
    "    \"LA County is easing COVID-19 restrictions again: What you need to know\",\n",
    "    \"Census 2020: With deadline weeks away, organizations urge LA County residents to participate\",\n",
    "    \"Man charged with stealing truck, killing 30-year-old woman in Gardena hit-and-run\"\n",
    "]\n",
    "\n",
    "vectorizer = joblib.load(\"vectorizer.joblib\")\n",
    "\n",
    "titles = vectorizer.transform(titles).toarray().tolist()\n",
    "#print(len(titles), len(titles[0]), sep=\", \")\n",
    "\n",
    "toJSON = {\"instances\":titles}\n",
    "#print(json.dumps(toJSON))\n",
    "\n",
    "outfile = open(\"samples.json\", 'w')\n",
    "\n",
    "json.dump(toJSON, outfile)\n",
    "\n",
    "outfile.close()\n",
    "\n",
    "print(\"\\nDONE\")"
   ]
  },
  {
   "cell_type": "code",
   "execution_count": null,
   "metadata": {},
   "outputs": [],
   "source": []
  }
 ],
 "metadata": {
  "kernelspec": {
   "display_name": "Python 3",
   "language": "python",
   "name": "python3"
  },
  "language_info": {
   "codemirror_mode": {
    "name": "ipython",
    "version": 3
   },
   "file_extension": ".py",
   "mimetype": "text/x-python",
   "name": "python",
   "nbconvert_exporter": "python",
   "pygments_lexer": "ipython3",
   "version": "3.7.6"
  }
 },
 "nbformat": 4,
 "nbformat_minor": 4
}
