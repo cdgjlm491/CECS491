{
 "cells": [
  {
   "cell_type": "code",
   "execution_count": 2,
   "metadata": {},
   "outputs": [
    {
     "name": "stdout",
     "output_type": "stream",
     "text": [
      "<class 'scipy.sparse.csr.csr_matrix'>\n",
      "\n",
      "DONE\n"
     ]
    }
   ],
   "source": [
    "import joblib\n",
    "import json\n",
    "import pickle\n",
    "import numpy\n",
    "\n",
    "titles = [\n",
    "    \"LA County Beaches to Stay Open for Labor Day\", \n",
    "    \"Video shows fatal OIS of California man that sparked protests\",\n",
    "    \"LA County is easing COVID-19 restrictions again: What you need to know\",\n",
    "    \"Census 2020: With deadline weeks away, organizations urge LA County residents to participate\",\n",
    "    \"Man charged with stealing truck, killing 30-year-old woman in Gardena hit-and-run\"\n",
    "]\n",
    "# load serialized vectorizer\n",
    "file = open(\"pkl-vectorizer.pkl\", \"rb\")\n",
    "vectorizer = pickle.load(file)\n",
    "\n",
    "#print(type(vectorizer.transform(titles)))\n",
    "\n",
    "titles = vectorizer.transform(titles).toarray().tolist()\n",
    "print(len(titles), len(titles[0]), sep=\", \")\n",
    "\n",
    "toJSON = {\n",
    "    \"instances\":[\n",
    "        titles[0],\n",
    "        titles[1],\n",
    "        titles[2],\n",
    "        titles[3],\n",
    "        titles[4]\n",
    "    ]\n",
    "}\n",
    "#print(json.dumps(toJSON))\n",
    "\n",
    "outfile = open(\"samples.json\", 'w')\n",
    "\n",
    "json.dump(toJSON, outfile)\n",
    "\n",
    "outfile.close()\n",
    "file.close()\n",
    "\n",
    "print(\"\\nDONE\")"
   ]
  },
  {
   "cell_type": "code",
   "execution_count": null,
   "metadata": {},
   "outputs": [],
   "source": []
  }
 ],
 "metadata": {
  "kernelspec": {
   "display_name": "Python 3",
   "language": "python",
   "name": "python3"
  },
  "language_info": {
   "codemirror_mode": {
    "name": "ipython",
    "version": 3
   },
   "file_extension": ".py",
   "mimetype": "text/x-python",
   "name": "python",
   "nbconvert_exporter": "python",
   "pygments_lexer": "ipython3",
   "version": "3.7.6"
  }
 },
 "nbformat": 4,
 "nbformat_minor": 4
}
