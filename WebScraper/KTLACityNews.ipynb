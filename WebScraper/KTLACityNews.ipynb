{
 "cells": [
  {
   "cell_type": "code",
   "execution_count": null,
   "metadata": {
    "scrolled": true
   },
   "outputs": [],
   "source": [
    "from bs4 import BeautifulSoup\n",
    "from requests import get\n",
    "import pandas as pd\n",
    "import itertools\n",
    "import matplotlib\n",
    "import time\n",
    "import seaborn as sns\n",
    "from time import sleep\n",
    "from random import randint\n",
    "sns.set()\n",
    "\n",
    "\"\"\" This program scrapes KTLA for articles in a specific city entered\"\"\""
   ]
  },
  {
   "cell_type": "code",
   "execution_count": null,
   "metadata": {},
   "outputs": [],
   "source": [
    "#disguise as a browser so website does not block us/identify us as web scraper\n",
    "headers = ({'User-Agent':'Mozilla/5.0 (Windows NT 6.1) AppleWebKit/537.36 (KHTML, like Gecko) Chrome/41.0.2228.0 Safari/537.36'})"
   ]
  },
  {
   "cell_type": "code",
   "execution_count": null,
   "metadata": {},
   "outputs": [],
   "source": [
    "titles = []\n",
    "#tags = []  #still need to find\n",
    "times = []\n",
    "authors = []\n",
    "#descs = []   #does not have description\n",
    "links = []"
   ]
  },
  {
   "cell_type": "code",
   "execution_count": null,
   "metadata": {},
   "outputs": [],
   "source": [
    "#link to ktla's website\n",
    "city = \"norwalk\"  #<--- Enter a city name here\n",
    "city = city.replace(\" \",\"-\")"
   ]
  },
  {
   "cell_type": "code",
   "execution_count": null,
   "metadata": {},
   "outputs": [],
   "source": [
    "n_pages = 0\n",
    "\n",
    "for page in range(0,5):\n",
    "    n_pages +=1\n",
    "    ktla = \"https://ktla.com/tag/\" + city + \"/\"\n",
    "    response = get(ktla, headers = headers)\n",
    "    html_soup = BeautifulSoup(response.text, 'html.parser')\n",
    "    article_containers = html_soup.find_all('h2', class_=\"article-list__article-title\")\n",
    "    article_containers += html_soup.find_all('h3', class_=\"article-list__article-title\")\n",
    "    \n",
    "    #need to loop through article containers\n",
    "    if article_containers != []:\n",
    "         for container in article_containers:\n",
    "    \n",
    "             #getting the title\n",
    "            title = container.find_all('a')[0].text\n",
    "            title = title.replace(\"\\t\",\"\")\n",
    "            title = title.replace(\"\\n\",\"\")\n",
    "            titles.append(title)\n",
    "            print(title)\n",
    "\n",
    "            #getting the link\n",
    "            link = container.find_all('a')[0].attrs[\"href\"]\n",
    "            links.append(link)\n",
    "\n",
    "            #going to go into article link to get author, date\n",
    "            ktla_article = link\n",
    "            article_response = get(ktla_article, headers = headers)\n",
    "            html_soup_2 = BeautifulSoup(article_response.text, 'html.parser')\n",
    "            article_info = html_soup_2.find_all('div',class_=\"article-meta\")\n",
    "            article =article_info[0]\n",
    "\n",
    "            #getting the author\n",
    "            author = article.find_all('a')[0].text\n",
    "            authors.append(author)\n",
    "\n",
    "             #getting the timestamp\n",
    "            timestamp = pd.to_datetime(article.time.attrs['datetime'])\n",
    "            timestamp = timestamp.replace(tzinfo=None)\n",
    "            times.append(timestamp)\n",
    "\n",
    "\n",
    "    else:\n",
    "        break\n",
    "\n",
    "    sleep(randint(1,2))\n",
    "\n",
    "print('You scraped {} pages containing {} properties.'.format(n_pages, len(titles)))\n",
    "\n",
    "\n",
    "\n",
    "cols = ['Title','Date Posted', 'Author','Link']\n",
    "\n",
    "ktla_pages = pd.DataFrame({'Title':titles, 'Date Posted':times, 'Author':authors, 'Link':links})[cols]\n",
    "\n",
    "ktla_pages.to_json('ktla.json')\n",
    "    "
   ]
  },
  {
   "cell_type": "code",
   "execution_count": null,
   "metadata": {},
   "outputs": [],
   "source": []
  },
  {
   "cell_type": "code",
   "execution_count": null,
   "metadata": {},
   "outputs": [],
   "source": []
  }
 ],
 "metadata": {
  "kernelspec": {
   "display_name": "Python 3",
   "language": "python",
   "name": "python3"
  },
  "language_info": {
   "codemirror_mode": {
    "name": "ipython",
    "version": 3
   },
   "file_extension": ".py",
   "mimetype": "text/x-python",
   "name": "python",
   "nbconvert_exporter": "python",
   "pygments_lexer": "ipython3",
   "version": "3.7.3"
  }
 },
 "nbformat": 4,
 "nbformat_minor": 2
}
