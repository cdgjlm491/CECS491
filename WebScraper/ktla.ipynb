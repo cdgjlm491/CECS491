{
 "cells": [
  {
   "cell_type": "code",
   "execution_count": 73,
   "metadata": {},
   "outputs": [],
   "source": [
    "from bs4 import BeautifulSoup\n",
    "import requests\n",
    "import numpy as np\n",
    "import time\n",
    "import pandas as pd\n",
    "\n",
    "titles=[]\n",
    "tags=[]\n",
    "desc=[]\n",
    "time=[]\n",
    "author=[]\n",
    "links=[]"
   ]
  },
  {
   "cell_type": "code",
   "execution_count": 32,
   "metadata": {},
   "outputs": [],
   "source": [
    "url = \"https://ktla.com/news/local-news/\""
   ]
  },
  {
   "cell_type": "code",
   "execution_count": 33,
   "metadata": {},
   "outputs": [
    {
     "data": {
      "text/plain": [
       "200"
      ]
     },
     "execution_count": 33,
     "metadata": {},
     "output_type": "execute_result"
    }
   ],
   "source": [
    "r1 = requests.get(url)\n",
    "r1.status_code"
   ]
  },
  {
   "cell_type": "code",
   "execution_count": 66,
   "metadata": {},
   "outputs": [
    {
     "data": {
      "text/plain": [
       "14"
      ]
     },
     "execution_count": 66,
     "metadata": {},
     "output_type": "execute_result"
    }
   ],
   "source": [
    "article = r1.content\n",
    "soup1 = BeautifulSoup(article,'html.parser')\n",
    "article_news = soup1.find_all('article',class_='article-list__article article-list__article--is-slat article-list__article--has-thumb article-list__article--is-media-type')\n",
    "len(article_news)\n",
    "#len(article_news2)"
   ]
  },
  {
   "cell_type": "code",
   "execution_count": 65,
   "metadata": {},
   "outputs": [
    {
     "data": {
      "text/plain": [
       "<article class=\"article-list__article article-list__article--is-stacked article-list__article--has-thumb article-list__article--is-media-type\" data-anvato-params=\"null\" data-collection=\"article-list1\" data-index=\"0\">\n",
       "<div class=\"article-list__article-text\" data-article-list-id=\"article-list1\" data-article-text-classes=\"article-list__article-text\" data-article-thumb-classes=\"article-list__article-thumb article-list__article-thumb--is-fullbleed-on-mobile\" data-current-image-context=\"[]\">\n",
       "<h2 class=\"article-list__article-title\">\n",
       "<a href=\"https://ktla.com/news/local-news/man-shot-to-death-in-paramount/\">\n",
       "\t\t\t\n",
       "\t\t\t\tMan shot to death in Paramount\n",
       "\t\t\t\t\t\t\t</a>\n",
       "</h2>\n",
       "<footer class=\"article-list__article-meta\">\n",
       "<a href=\"https://ktla.com/news/local-news/\">Local News</a> / <time datetime=\"2020-04-27T03:17:14-07:00\">2 hours ago</time> </footer>\n",
       "</div>\n",
       "<figure class=\"article-list__article-thumb article-list__article-thumb--is-fullbleed-on-mobile\">\n",
       "<a href=\"https://ktla.com/news/local-news/man-shot-to-death-in-paramount/\">\n",
       "<div class=\"article-list__article-image-wrapper\">\n",
       "<div class=\"image-wrapper landscape\">\n",
       "<img alt=\"The 6800 block of San Juan Street in Paramount, as viewed in a Google Street View image.\" sizes=\"(max-width: 899px) 100%, 60vw\" src=\"https://ktla.com/wp-content/uploads/sites/4/2020/04/P-crop.jpg?w=1920&amp;h=1080&amp;crop=1\" srcset=\"https://ktla.com/wp-content/uploads/sites/4/2020/04/P-crop.jpg?w=320&amp;h=180&amp;crop=1 320w, https://ktla.com/wp-content/uploads/sites/4/2020/04/P-crop.jpg?w=640&amp;h=360&amp;crop=1 640w, https://ktla.com/wp-content/uploads/sites/4/2020/04/P-crop.jpg?w=960&amp;h=540&amp;crop=1 960w, https://ktla.com/wp-content/uploads/sites/4/2020/04/P-crop.jpg?w=1280&amp;h=720&amp;crop=1 1280w, https://ktla.com/wp-content/uploads/sites/4/2020/04/P-crop.jpg?w=1920&amp;h=1080&amp;crop=1 1920w, https://ktla.com/wp-content/uploads/sites/4/2020/04/P-crop.jpg?w=1920&amp;h=1080&amp;crop=1 2560w\"/>\n",
       "</div>\n",
       "</div>\n",
       "</a>\n",
       "</figure>\n",
       "</article>"
      ]
     },
     "execution_count": 65,
     "metadata": {},
     "output_type": "execute_result"
    }
   ],
   "source": [
    "article_news[1]"
   ]
  },
  {
   "cell_type": "code",
   "execution_count": 83,
   "metadata": {},
   "outputs": [
    {
     "ename": "AttributeError",
     "evalue": "'NoneType' object has no attribute 'attrs'",
     "output_type": "error",
     "traceback": [
      "\u001b[0;31m---------------------------------------------------------------------------\u001b[0m",
      "\u001b[0;31mAttributeError\u001b[0m                            Traceback (most recent call last)",
      "\u001b[0;32m<ipython-input-83-b48f15681cbe>\u001b[0m in \u001b[0;36m<module>\u001b[0;34m\u001b[0m\n\u001b[1;32m     22\u001b[0m     \u001b[0mdesc\u001b[0m\u001b[0;34m.\u001b[0m\u001b[0mappend\u001b[0m\u001b[0;34m(\u001b[0m\u001b[0mfinal_article\u001b[0m\u001b[0;34m)\u001b[0m\u001b[0;34m\u001b[0m\u001b[0;34m\u001b[0m\u001b[0m\n\u001b[1;32m     23\u001b[0m \u001b[0;34m\u001b[0m\u001b[0m\n\u001b[0;32m---> 24\u001b[0;31m     \u001b[0mtimestamp\u001b[0m \u001b[0;34m=\u001b[0m \u001b[0mpd\u001b[0m\u001b[0;34m.\u001b[0m\u001b[0mto_datetime\u001b[0m\u001b[0;34m(\u001b[0m\u001b[0mdescs\u001b[0m\u001b[0;34m[\u001b[0m\u001b[0mn\u001b[0m\u001b[0;34m]\u001b[0m\u001b[0;34m.\u001b[0m\u001b[0mtime\u001b[0m\u001b[0;34m.\u001b[0m\u001b[0mattrs\u001b[0m\u001b[0;34m[\u001b[0m\u001b[0;34m'datetime'\u001b[0m\u001b[0;34m]\u001b[0m\u001b[0;34m)\u001b[0m\u001b[0;34m\u001b[0m\u001b[0;34m\u001b[0m\u001b[0m\n\u001b[0m\u001b[1;32m     25\u001b[0m     \u001b[0mtimestamp\u001b[0m \u001b[0;34m=\u001b[0m \u001b[0mtimestamp\u001b[0m\u001b[0;34m.\u001b[0m\u001b[0mreplace\u001b[0m\u001b[0;34m(\u001b[0m\u001b[0mtzinfo\u001b[0m\u001b[0;34m=\u001b[0m\u001b[0;32mNone\u001b[0m\u001b[0;34m)\u001b[0m\u001b[0;34m\u001b[0m\u001b[0;34m\u001b[0m\u001b[0m\n\u001b[1;32m     26\u001b[0m     \u001b[0mtime\u001b[0m\u001b[0;34m.\u001b[0m\u001b[0mappend\u001b[0m\u001b[0;34m(\u001b[0m\u001b[0mtimestamp\u001b[0m\u001b[0;34m)\u001b[0m\u001b[0;34m\u001b[0m\u001b[0;34m\u001b[0m\u001b[0m\n",
      "\u001b[0;31mAttributeError\u001b[0m: 'NoneType' object has no attribute 'attrs'"
     ]
    }
   ],
   "source": [
    "for n in range(0,len(article_news)):\n",
    "    link = article_news[n].find('a')['href']\n",
    "    links.append(link)\n",
    "    \n",
    "    title = article_news[n].find('a').get_text()\n",
    "    titles.append(title)\n",
    "    \n",
    "    tag = article_news[n].find('footer').get_text()\n",
    "    tags.append(tag)\n",
    "    \n",
    "    details = requests.get(link)\n",
    "    details_content = details.content\n",
    "    soup2 = BeautifulSoup(details_content, 'html.parser')\n",
    "    descs = soup2.find_all('div', class_='article-content rich-text')\n",
    "    x = descs[0].find_all('p')\n",
    "    \n",
    "    list_paragraphs = []\n",
    "    for p in np.arange(0, len(x)):\n",
    "        paragraph = x[p].get_text()\n",
    "        list_paragraphs.append(paragraph)\n",
    "        final_article = \" \".join(list_paragraphs)\n",
    "    desc.append(final_article)\n",
    "    \n",
    "    timestamp = pd.to_datetime(descs[n].time.attrs['datetime'])\n",
    "    timestamp = timestamp.replace(tzinfo=None)\n",
    "    time.append(timestamp)\n",
    "    "
   ]
  },
  {
   "cell_type": "code",
   "execution_count": 53,
   "metadata": {},
   "outputs": [],
   "source": [
    "titles.clear()"
   ]
  },
  {
   "cell_type": "code",
   "execution_count": 54,
   "metadata": {},
   "outputs": [
    {
     "data": {
      "text/plain": [
       "[]"
      ]
     },
     "execution_count": 54,
     "metadata": {},
     "output_type": "execute_result"
    }
   ],
   "source": [
    "titles"
   ]
  },
  {
   "cell_type": "code",
   "execution_count": 57,
   "metadata": {},
   "outputs": [
    {
     "data": {
      "text/plain": [
       "[]"
      ]
     },
     "execution_count": 57,
     "metadata": {},
     "output_type": "execute_result"
    }
   ],
   "source": [
    "article_news\n"
   ]
  },
  {
   "cell_type": "code",
   "execution_count": 78,
   "metadata": {},
   "outputs": [
    {
     "data": {
      "text/plain": [
       "['\\nLocal News / 11 hours ago ',\n",
       " '\\nNews / 11 hours ago ',\n",
       " '\\nLocal News / 6 hours ago ',\n",
       " '\\nLocal News / 14 hours ago ',\n",
       " '\\nLocal News / 17 hours ago ',\n",
       " '\\nGayle on the Go / 19 hours ago ',\n",
       " '\\nGayle on the Go / 19 hours ago ',\n",
       " '\\nLocal News / 20 hours ago ',\n",
       " '\\nLocal News / 7 hours ago ',\n",
       " '\\nLocal News / 1 day ago ',\n",
       " '\\nLocal News / 1 day ago ',\n",
       " '\\nNation/World / 1 day ago ',\n",
       " '\\nLocal News / 1 day ago ',\n",
       " '\\nLocal News / 1 day ago ']"
      ]
     },
     "execution_count": 78,
     "metadata": {},
     "output_type": "execute_result"
    }
   ],
   "source": [
    "tags"
   ]
  },
  {
   "cell_type": "code",
   "execution_count": 69,
   "metadata": {},
   "outputs": [
    {
     "data": {
      "text/plain": [
       "['https://ktla.com/news/local-news/man-shot-to-death-in-paramount/',\n",
       " 'https://ktla.com/news/local-news/thousands-participate-in-memorial-parade-for-fallen-marine-in-simi-valley/',\n",
       " 'https://ktla.com/news/community-nation-honor-lakewood-wwii-vet-on-105th-birthday/',\n",
       " 'https://ktla.com/news/local-news/18-new-covid-19-deaths-in-l-a-county-bring-total-to-913/',\n",
       " 'https://ktla.com/news/local-news/businesses-should-be-allowed-to-open-while-following-social-distancing-rules-says-lawsuit-filed-in-socal/',\n",
       " 'https://ktla.com/news/local-news/man-shot-to-death-in-paramount/',\n",
       " 'https://ktla.com/news/local-news/man-shot-to-death-in-paramount/',\n",
       " 'https://ktla.com/news/local-news/thousands-participate-in-memorial-parade-for-fallen-marine-in-simi-valley/',\n",
       " 'https://ktla.com/news/community-nation-honor-lakewood-wwii-vet-on-105th-birthday/',\n",
       " 'https://ktla.com/news/local-news/18-new-covid-19-deaths-in-l-a-county-bring-total-to-913/',\n",
       " 'https://ktla.com/news/local-news/businesses-should-be-allowed-to-open-while-following-social-distancing-rules-says-lawsuit-filed-in-socal/',\n",
       " 'https://ktla.com/news/local-news/man-shot-to-death-in-paramount/',\n",
       " 'https://ktla.com/news/local-news/thousands-participate-in-memorial-parade-for-fallen-marine-in-simi-valley/',\n",
       " 'https://ktla.com/news/community-nation-honor-lakewood-wwii-vet-on-105th-birthday/',\n",
       " 'https://ktla.com/news/local-news/18-new-covid-19-deaths-in-l-a-county-bring-total-to-913/',\n",
       " 'https://ktla.com/news/local-news/businesses-should-be-allowed-to-open-while-following-social-distancing-rules-says-lawsuit-filed-in-socal/',\n",
       " 'https://ktla.com/news/local-news/homicide-detectives-investigate-death-of-man-in-san-clemente/',\n",
       " 'https://ktla.com/morning-news/gayle-on-the-go/sunday-gayle-on-the-stay-at-home-go-for-sunday-april-26-2020/',\n",
       " 'https://ktla.com/morning-news/gayle-on-the-go/saturday-gayle-on-the-go-for-saturday-april-25-2020/',\n",
       " 'https://ktla.com/news/local-news/grandfather-from-riverside-remembered-after-battling-coronavirus-for-nearly-3-weeks/',\n",
       " 'https://ktla.com/news/local-news/despite-coronavirus-many-flock-to-orange-and-ventura-county-beaches-to-beat-the-heat/',\n",
       " 'https://ktla.com/news/local-news/training-accident-leads-to-12th-horse-death-at-santa-anita-since-dec-26/',\n",
       " 'https://ktla.com/news/local-news/rowland-heights-senior-with-diminished-mental-capacity-goes-missing/',\n",
       " 'https://ktla.com/news/nationworld/rick-singer-explains-much-debated-notes-in-college-admissions-scandal/',\n",
       " 'https://ktla.com/news/local-news/former-dodgers-broadcaster-vin-scully-back-home-after-fall-hospitalization/',\n",
       " 'https://ktla.com/news/local-news/i-really-didnt-think-i-was-going-to-come-out-of-it-riverside-doctor-credits-trial-drug-for-surviving-covid-19/',\n",
       " 'https://ktla.com/news/nationworld/house-democrats-investigate-u-s-sales-of-unproven-coronavirus-antibody-tests-call-for-fda-action/',\n",
       " 'https://ktla.com/news/nationworld/nasa-engineers-in-pasadena-develop-ventilator-tailored-to-needs-of-covid-19-patients/',\n",
       " 'https://ktla.com/news/local-news/despite-coronavirus-many-flock-to-orange-and-ventura-county-beaches-to-beat-the-heat/',\n",
       " 'https://ktla.com/news/nationworld/more-states-ease-virus-restrictions-and-allow-partial-re-openings-of-restaurants-salons-and-gyms/',\n",
       " 'https://ktla.com/news/local-news/man-shot-to-death-in-paramount/',\n",
       " 'https://ktla.com/news/local-news/18-new-covid-19-deaths-in-l-a-county-bring-total-to-913/',\n",
       " 'https://ktla.com/news/california/vallejo-official-resigns-after-throwing-cat-during-zoom-meeting/',\n",
       " 'https://ktla.com/news/local-news/homicide-detectives-investigate-death-of-man-in-san-clemente/',\n",
       " 'https://ktla.com/morning-news/gayle-on-the-go/sunday-gayle-on-the-stay-at-home-go-for-sunday-april-26-2020/',\n",
       " 'https://ktla.com/morning-news/gayle-on-the-go/saturday-gayle-on-the-go-for-saturday-april-25-2020/',\n",
       " 'https://ktla.com/news/local-news/grandfather-from-riverside-remembered-after-battling-coronavirus-for-nearly-3-weeks/',\n",
       " 'https://ktla.com/news/local-news/despite-coronavirus-many-flock-to-orange-and-ventura-county-beaches-to-beat-the-heat/',\n",
       " 'https://ktla.com/news/local-news/training-accident-leads-to-12th-horse-death-at-santa-anita-since-dec-26/',\n",
       " 'https://ktla.com/news/local-news/rowland-heights-senior-with-diminished-mental-capacity-goes-missing/',\n",
       " 'https://ktla.com/news/nationworld/rick-singer-explains-much-debated-notes-in-college-admissions-scandal/',\n",
       " 'https://ktla.com/news/local-news/former-dodgers-broadcaster-vin-scully-back-home-after-fall-hospitalization/',\n",
       " 'https://ktla.com/news/local-news/i-really-didnt-think-i-was-going-to-come-out-of-it-riverside-doctor-credits-trial-drug-for-surviving-covid-19/',\n",
       " 'https://ktla.com/news/nationworld/house-democrats-investigate-u-s-sales-of-unproven-coronavirus-antibody-tests-call-for-fda-action/',\n",
       " 'https://ktla.com/news/nationworld/nasa-engineers-in-pasadena-develop-ventilator-tailored-to-needs-of-covid-19-patients/',\n",
       " 'https://ktla.com/news/local-news/despite-coronavirus-many-flock-to-orange-and-ventura-county-beaches-to-beat-the-heat/',\n",
       " 'https://ktla.com/news/nationworld/more-states-ease-virus-restrictions-and-allow-partial-re-openings-of-restaurants-salons-and-gyms/',\n",
       " 'https://ktla.com/news/local-news/man-shot-to-death-in-paramount/',\n",
       " 'https://ktla.com/news/local-news/18-new-covid-19-deaths-in-l-a-county-bring-total-to-913/',\n",
       " 'https://ktla.com/news/california/vallejo-official-resigns-after-throwing-cat-during-zoom-meeting/',\n",
       " 'https://ktla.com/news/local-news/homicide-detectives-investigate-death-of-man-in-san-clemente/',\n",
       " 'https://ktla.com/morning-news/gayle-on-the-go/sunday-gayle-on-the-stay-at-home-go-for-sunday-april-26-2020/',\n",
       " 'https://ktla.com/morning-news/gayle-on-the-go/saturday-gayle-on-the-go-for-saturday-april-25-2020/',\n",
       " 'https://ktla.com/news/local-news/grandfather-from-riverside-remembered-after-battling-coronavirus-for-nearly-3-weeks/',\n",
       " 'https://ktla.com/news/local-news/despite-coronavirus-many-flock-to-orange-and-ventura-county-beaches-to-beat-the-heat/',\n",
       " 'https://ktla.com/news/local-news/training-accident-leads-to-12th-horse-death-at-santa-anita-since-dec-26/',\n",
       " 'https://ktla.com/news/local-news/rowland-heights-senior-with-diminished-mental-capacity-goes-missing/',\n",
       " 'https://ktla.com/news/nationworld/rick-singer-explains-much-debated-notes-in-college-admissions-scandal/',\n",
       " 'https://ktla.com/news/local-news/former-dodgers-broadcaster-vin-scully-back-home-after-fall-hospitalization/',\n",
       " 'https://ktla.com/news/local-news/i-really-didnt-think-i-was-going-to-come-out-of-it-riverside-doctor-credits-trial-drug-for-surviving-covid-19/',\n",
       " 'https://ktla.com/news/nationworld/house-democrats-investigate-u-s-sales-of-unproven-coronavirus-antibody-tests-call-for-fda-action/',\n",
       " 'https://ktla.com/news/nationworld/nasa-engineers-in-pasadena-develop-ventilator-tailored-to-needs-of-covid-19-patients/',\n",
       " 'https://ktla.com/news/local-news/despite-coronavirus-many-flock-to-orange-and-ventura-county-beaches-to-beat-the-heat/',\n",
       " 'https://ktla.com/news/nationworld/more-states-ease-virus-restrictions-and-allow-partial-re-openings-of-restaurants-salons-and-gyms/',\n",
       " 'https://ktla.com/news/local-news/man-shot-to-death-in-paramount/',\n",
       " 'https://ktla.com/news/local-news/18-new-covid-19-deaths-in-l-a-county-bring-total-to-913/',\n",
       " 'https://ktla.com/news/california/vallejo-official-resigns-after-throwing-cat-during-zoom-meeting/',\n",
       " 'https://ktla.com/news/local-news/thousands-participate-in-memorial-parade-for-fallen-marine-in-simi-valley/',\n",
       " 'https://ktla.com/news/community-nation-honor-lakewood-wwii-vet-on-105th-birthday/',\n",
       " 'https://ktla.com/news/local-news/18-new-covid-19-deaths-in-l-a-county-bring-total-to-913/',\n",
       " 'https://ktla.com/news/local-news/businesses-should-be-allowed-to-open-while-following-social-distancing-rules-says-lawsuit-filed-in-socal/',\n",
       " 'https://ktla.com/news/local-news/homicide-detectives-investigate-death-of-man-in-san-clemente/',\n",
       " 'https://ktla.com/morning-news/gayle-on-the-go/sunday-gayle-on-the-stay-at-home-go-for-sunday-april-26-2020/',\n",
       " 'https://ktla.com/morning-news/gayle-on-the-go/saturday-gayle-on-the-go-for-saturday-april-25-2020/',\n",
       " 'https://ktla.com/news/local-news/grandfather-from-riverside-remembered-after-battling-coronavirus-for-nearly-3-weeks/',\n",
       " 'https://ktla.com/news/local-news/despite-coronavirus-many-flock-to-orange-and-ventura-county-beaches-to-beat-the-heat/',\n",
       " 'https://ktla.com/news/local-news/training-accident-leads-to-12th-horse-death-at-santa-anita-since-dec-26/',\n",
       " 'https://ktla.com/news/local-news/rowland-heights-senior-with-diminished-mental-capacity-goes-missing/',\n",
       " 'https://ktla.com/news/nationworld/rick-singer-explains-much-debated-notes-in-college-admissions-scandal/',\n",
       " 'https://ktla.com/news/local-news/former-dodgers-broadcaster-vin-scully-back-home-after-fall-hospitalization/',\n",
       " 'https://ktla.com/news/local-news/i-really-didnt-think-i-was-going-to-come-out-of-it-riverside-doctor-credits-trial-drug-for-surviving-covid-19/']"
      ]
     },
     "execution_count": 69,
     "metadata": {},
     "output_type": "execute_result"
    }
   ],
   "source": [
    "links\n"
   ]
  },
  {
   "cell_type": "code",
   "execution_count": 72,
   "metadata": {},
   "outputs": [
    {
     "data": {
      "text/plain": [
       "['The family of a U.S. Marine killed in Iraq last month had to postpone his memorial service because of restrictions on large gatherings in California to slow the spread of the coronavirus. On Sunday morning, they were surprised with a parade outside their Simi Valley home that began with a police helicopter flyover, followed by about 1,500 law enforcement vehicles, fire engines and cars. The Ventura County Star reports the huge turnout to honor Gunnery Sgt. Diego D. Pongo, was an orderly affair. Pongo’s sister-in-law helped organize the parade to surprise his parents and brothers. The city’s police department helped out with traffic control. Community members kept the parade going for more than two hours, and many of their cars blasted music while kids hung out of windows waving flags. People who gathered on the sidewalk to watch the parade followed social distancing measures, Sgt. Patrick Zayicek told the newspaper. “It was a great show of support in our community.,” he said. Pongo, 34, and another Marine were killed on March 8 during a mission to eliminate a stronghold for the Islamic State group in Iraq. Pongo and Capt. Moises A. Navas, also 34, of Germantown, Maryland, were both assigned to the 2nd Marine Raider Battalion at Camp Lejeune, North Carolina. Pongo was an advanced sniper, a foreign weapons instructor and a combat marksmanship leader who was fluent in multiple languages, Marine Raider Regiment Commanding Officer Col. John Lynch said. Pongo is survived by his daughter and other family members. \\nSubmit \\n\\n\\n',\n",
       " 'Neighbors, loved ones, community leaders and the President of the United States all joined Sunday to wish a World War II veteran and Lakewood resident a happy 105th birthday. Police and fire vehicles paraded by, as well as classic cars. Local mayors and fellow veterans came to pay tribune. President Donald Trump sent a letter of congratulations. Retired U.S. Army Lt. Col. Sam Sachs said he was overwhelmed and grateful for the show of support and respect. Many community members say they are grateful to call Sachs a neighbor. Kareen Wynter reports for the KTLA 5 News on April 26, 2020. \\nSubmit \\n\\n\\n',\n",
       " 'Health officials reported 18 new COVID-19 deaths in Los Angeles County on Sunday, marking 913 total deaths attributed to the disease as the number of detected infections approached 20,000, authorities said. The Los County Department of Public Health also announced 440 new detected cases of COVID-19, bringing the county-wide tally to 19,528. Sunday’s statistics follow 48 new deaths reported on Saturday and 52 on Friday. Although officials have warned in the past that reporting over weekends can lag behind. “The most difficult part of the COVID-19 pandemic is losing people to the virus. To all of you who have lost loved ones, we are deeply sorry,” L.A. County Director of Public Health Dr. Barbara Ferrer said in a written statement. Of the new deaths reported on Sunday: “Thirteen people who died were over the age of 65; four people who died were between the ages of 41 to 65 years old; and one person who died was between the ages of 18 to 40 years old,” county health officials said in a written statement. “Fifteen people had underlying health conditions including 13 people over the age of 65 and two people between the ages of 41 to 65 years old.” About 93% of 913 total patients who have succumbed to the virus in L.A. County suffered from underlying health conditions, officials said. Just under 4,400 of the county’s positive patients, or 23%, have ended up in a hospital at some point during their illness. Test results have been obtained for more than 117,000 individuals in L.A. County, with 14% of those tested receiving positive results. The Los Angeles County figures include Pasadena, with 299 infections, and Long Beach, with 563 infections, which both have their own health departments. Ferrer and other officials have expressed concerns that the virus is hitting minority and poverty-stricken communities especially hard. “As we have more information about who is dying, we are reminded that the work ahead requires that we address issues of disproportionality that result in higher rates of death among African Americans, Latinx and Asians as well as residents living in poverty,” Ferrer said. Racial and ethnic information was available for 837 of the county’s 913 reported deaths. “African Americans continue to have the highest rate of death for COVID-19 when compared to other groups at 13 deaths per 100,000 people,” according to the Department of Public Health statement. “The mortality rate for Latinx is 9.5; for Asians, the rate is 7.5; and for Whites, the rate is 5.5.” Data has shown that people living in “lower-income” communities are three times more likely to ultimately die from a COVID-19 infection than those who live in wealthier communities, according to health officials. “Ensuring access to testing, early treatment and care, and economic support among those communities at higher risk of devastating outcomes associated with COVID-19, is essential,” Ferrer said. Further details, including a list of COVID-18 cases by city, is available on the Department of Public Heath’s website. \\nSubmit \\n\\n\\n',\n",
       " 'A group of small businesses in Southern California is suing state and local authorities, arguing that they should be allowed to open as long as they adhere to social distancing rules during the coronavirus outbreak. Attorneys filed the federal lawsuit Friday against dozens of officials including Gov. Gavin Newsom and Los Angeles Mayor Eric Garcetti on behalf of seven local businesses, including a South El Monte restaurant and a mariachi band, a Burbank-based pet grooming company, a boat-rental service in Newport Beach, a film equipment manufacturer and a business that owns a number of Ruby’s Diner, Auntie Anne’s Pretzels and Charley’s Subs franchises across Southern California.   The shutdown orders forced the businesses to lay off a majority of their employees, the lawsuit said, alleging that they could have safely continued to operate within federal social distancing and health guidelines. One of the plaintiffs, South El Monte restaurant Cielito Lindo, offered carry-out and delivery for a week but ultimately had to close as the businesses in the surrounding industrial area had been shut down, according to the lawsuit. The restaurant opened in 1986 and employed more than 50 people, most of them now laid off, the lawsuit said.  The South El Monte mariachi band, named as a plaintiff as Hernandez Productions, have had their shows canceled all over California and in the southwest, a representative told KTLA. All 35 employees of the company have since been out of work since the stay-at-home order took effect, according to the lawsuit.  Another plaintiff, Torrance-based Wildfire Lighting, manufactures equipment for the entertainment industry. The stay-at-home order deems it a nonessential business and led the company to so far lay off two of its five employees, court documents said. “Because of the nature of Wildfire Lighting’s business, it could easily follow the CDC’s guidelines of social distancing without being forced to have entirely closed down its business,” the lawsuit read.  L.A.-based Geragos and Geragos and San Francisco-based Dhillon Law Group are representing the businesses. A statement from the law firms’ representative called the shelter-in-place orders “unconstitutional.” “Our country was built on the premise of life, liberty and the pursuit of happiness and today in 2020 those freedoms are being stripped away from law-abiding citizens and businesses without rational thought or a rational basis,” attorney Mark Gerago stated. On March 19, Newsom declared a statewide stay-at-home order that closed businesses deemed nonessential. It also banned restaurants from offering dine-in services, among other rules. While federal, state and local governments have announced billions of dollars in financial loans intended for small businesses, many continue to struggle. Attorneys across the U.S. say many owners are considering filing for bankruptcy. Newsom, like other governors across the U.S., has faced pressure to reopen the economy amid growing unemployment numbers. But as others begin to ease restrictions, Newsom remains steadfast.  He has repeatedly warned that lifting stay-at-home rules too soon will drive up the number of COVID-19 patients in the state, which has reported a slow but continuing increase in cases. At least 1,710 people have died of COVID-19 in California as of Sunday, according to the state. Newsom said that as a former small business owner, he understood the hardship and economic impact of the statewide order. In the early days of the mandate, his office announced that small businesses may defer paying sales taxes. The state has also made millions of dollars in loans available in addition to those offered by the federal government.   Sandy Duvall, a local gym owner who is not involved in the lawsuit, said she has not yet seen any help materialize despite gyms being some of the first ones to shut down during the outbreak. “We’re kind of in a loss here, just trying to hang on by a thread and not really knowing what the future is for us,” she said.  \\nSubmit \\n\\n\\n',\n",
       " 'Homicide detectives are investigating after a man was found dead inside a San Clemente home, authorities said Sunday. Deputies responding to a call about a disturbance around 10:30 p.m. Saturday found the man’s body inside a home located in the 3000 block of Calle Frontera, according to the Orange County Sheriff’s Department. They entered the house after not getting a response from anyone inside. The department is not releasing details about the victim’s cause of death since the investigation is ongoing and no suspect has been arrested, said Carrie Braun, spokeswoman for the Sheriff’s Department. The victim’s identity is not being released pending notification of family, authorities said. Anyone with information can reach detectives at 714-647-7000. Those wishing to remain anonymous can call O.C. Crime Stoppers at 855-847-6227. \\nSubmit \\n\\n\\n',\n",
       " '\\xa0It’s SUNDAY! Despite the Covid-19 quarantine, there are many experiences available to us –VIRTUALLY! Here are some Sunday “Gayle on the – STAY AT HOME – suggestions.  Take a look! Enjoy! Please stay safe!  -000- “Experience Your Yosemite”  Yosemite National Park  www.nps.gov “Virtual Yosemite” is described as a “groundbreaking interactive tour of one of America’s spectacular natural environments.  Adventure and wildlife photographer and author Scott Highton says he spent more than two years producing magnificent \\xa0virtual experience which includes links to a variety of park resources. Also, the National Park Service features webcams for LIVE views of Yosemite.  To experience and to learn more about the virtual experience with Mother Nature, take a look at the website: www.nps.gov -0- Captain Dave’s Virtual Dolphin & Whale Watching Wednesdays at 1:00pm PST DolphinSafari.com Since the Covid-19 quarantine has ended many activities including whale watching, the famous Captain Dave’s Whale Watching and Dolphin Safari is providing weekly virtual tours. Gayle Anderson reports today’s, Earth Day Virtual Dolphin and Whale Watching activities happens at 1pm. We’re invited to get our VITAMIN SEA and chat with Captain Dave live during his Sensorium Cetacean Safari. To participate, go to the website: dolphinsafari.com or their YouTube Channel: https://www.youtube.com/channel/UCa53fMnMax27fsyKBP_ygSA/ \\xa0\\xa0\\xa0 Don’t forget to celebrate your virtual tour with an order of \\xa0“Mrs. Captain Dave’s Triple Fudge Brownies!” To order yours, call 1-949-577-8403! Yum!  https://www.dolphinsafari.com/mrs-capt-daves-triple-fudge-brownies/ -0-  Stuck-at-Home SCIENCE Activities for Families Using Household Supplies California Science Center californiasciencecenter.org/stuck-at-home-science We can learn science and have some fun experimenting with one of the many “Stuck at Home” science activities offered by the California Science Center.  Each science activity video has an activity guide so we can try the science project at home using simple household ingredients. To see the variety of California Science Center “STUCK AT HOME” science activities.  We’re invited to follow the California Science Center on Facebook, Instagram and Twitter and to tag our posts #StuckAtHomeScience to share photographs of completed homemade science projects.  For more “STUCK AT HOME SCIENCE” projects, take a look at the comprehensive California Science Center website: californiasciencecenter.org/stuck-at-home-science -0- Live Streamed! The Vault Presented by Hagerty 60,000 Square Feet, More than 250 Cars  Petersen Automotive Museum For Dates & Themes: Petersen.org/vault  We can “STAY AT HOME!” and discover some of the most iconic and rare cars, motorcycles, and trucks spanning more than 120 years of automotive history on the largest guided automotive tour in the United States. The automotive treasures are in THE VAULT at the Petersen Automotive Museum in Los Angeles. For tour schedules and tour themes, please check the website: petersen.org/vault \\xa0-0-  \\xa0Live Streamed on Instagram @mullinmuseum Tuesdays @ 10am Mullin Automotive Museum Compete Prepared with Questions for Chat Feed  \\xa0We can also “STAY AT HOME” and tour the prize winning four wheel masterpieces at the Mullin Automotive Museum in Oxnard. \\xa0We can see some of the 140 vehicles, art and artifacts from the couch! All you have to do is follow the Mullin Museum on its Instagram feed.  \\xa0-0- \\xa0Inside the Walt Disney Archives  Bowers Museum\\xa0at Home Use Your Mobile Device guide.bowers.org Experience “Inside the Walt Disney Archives” at Bowers Museum\\xa0at Home. The brand new “Inside the Walt Disney Archives” exhibition had just opened when the Covid-19 quarantine was imposed. So, Bowers Museum officials have created an online experience until the museum is allowed to reopen. \\xa0the exhibition\\xa0Inside the Walt Disney Archives: 50 Years of Preserving the Magic\\xa0celebrates The Walt Disney Company on the 50th anniversary of its archives, with behind-the-scenes access never before granted to the public. Guests are invited to explore The Walt Disney Archives learn about some of the more than 400 objects, including original artwork, costumes, and props that tell the story of the Archives, The Walt Disney Company, and Walt Disney himself. From nostalgic classics like never-before-displayed sketches for Fantasia and ghouls from the Haunted Mansion attraction, to modern-day favorites like super hero costumes and maquettes from Frozen, this enchanting exhibition is an immersive treasure-trove the entire family will love. Inside the Walt Disney Archives: 50 Years of Preserving the Magic\\xa0is curated by the Walt Disney Archives in conjunction with the Bowers Museum. ***Use Your Mobile Device and enter: guide.bowers.org! -0-  “Wash Your Hands” Downloadable Coloring Book Artist Eric Junker  www.ericjunker.com/download-your-coloring-book  “Wash Your Hands!” Local artist Eric Junker is famous for his murals, posters, and things. Now add this! A downloadable coloring book that reminds us to wash our hands in this age of Covid-19. He delivers the message in several languages. To get a free copy, go the his website: www.ericjunker.com/download-your-coloring-book \\xa0 -0- Vanity Fair: Hollywood Calling Audio Tour \\xa0 Annenberg Space for Photography Audio Tour  www.annenbergphotospace.org \\xa0 Hear the voice of Vanity Fair’s Creative Development Editor David Friend giving us a complete audio tour of the exhibition “Vanity Fair : Hollywood Calling.”  Although the Annenberg Space for Photography is closed, we can still enjoy this current exhibition from the couch!  David Friend provides fascinating insight at how some of the publication’s most memorable photographs were made.  To hear more of Friend and to see which selected stories and images he discusses, go to the website: www.annenbergphotospace.org  -0-\\xa0\\xa0 Rosebud Parade “Happiness is Homemade” Tournament of Roses Hosts Rosebud Parade Complete Guidelines: tournamentofroses.com/events/rosebudparade Send Video to: rosebudparade@tournamentofroses.com\\xa0 The Deadline is Monday, May 11th It’s a 131-year old tradition. Building and decorating a Rose Parade Float for the Tournament of Roses Parade. For the first time ever, we’re invited to the first ever virtual parade, featuring our homemade floats: \\xa0 Build\\xa0your float. Anyone can help. Record\\xa0a video of your float either moving or standing still. \\xa0Talk about theme of your float. For complete guidelines and instructions go to the website:\\xa0https://tournamentofroses.com/events/rosebudparade/ E-mail\\xa0a \\xa0video of your float\\xa0to:\\xa0rosebudparade@tournamentofroses.com\\xa0by Monday, May 11. Tune in\\xa0May 28th to see the virtual homemade Rose Parade on Facebook Live. \\xa0-0-  Aquarium of the Pacific Online Academy  www.aquariumofpacific.org/news/aquariumacademy The Aquarium of the Pacific is pleased to offer an Online Academy to bring their educational programming as well as fun and entertaining activities to the public during the current closure. Here you will find both on-demand videos and activities for all ages and a schedule of interactive live programs with our educators, from virtual classroom sessions to Pacific Pals puppets. This page will be updated regularly with new content and live dates as they become available.\\u200b ***STREAMING LIVE APRIL 27, 2020,\\xa09:00 AM–9:30 AM*** -0-  Online Learning Resources The Marine Mammal Center\\xa0  www.marinemammalcenter.org/education/online-learning-resources  The Marine Mammal Center’s award winning educators are providing NEW online learning resources on a weekly basis intended to aid families and teachers in guiding youth of all ages to learn more about marine mammal health, science and conservation. \\xa0-0- Virtual Real Estate Tours  Philip A. Coombes: Photography, Video, Aerials, 3D Imaging(626)644-3227Phil@GlobalimagingServices.com We can learn more about Philip Coombes video style of stay at home, social distancing venues at website GlobalImagingServices.com  -0- Virtual Tour of the Reagan Library (Pre-Renovation) with Host Gary Sinise Ronald Reagan Presidential Library and Museum www.reaganfoundation.org/library-museum/visitor-information/museum-closed-c19 www.youtube.com/watch?v=6Ry_kId1jOY#action=share Let’s learn some history! Take a virtual of the Reagan Presidential Library with award winning actor, director, producer, musician, and philanthropist Gary Sinise (Gary Sinise Foundation: www.garysinisefoundation.org). \\xa0 Due to the announcement of the National Archives and Records Administration made Thursday, March 12, 2020, the Ronald Reagan Presidential Library and Museum is closed to the public as a result of the Covid-19 pandemic. With public safety in mind, the Reagan Foundation will continue to reassess the situation and will work to re-open its facilities as soon as possible. The closing of the Reagan Museum includes the cancellation of any events scheduled at the Reagan Library. All of their online operations are still open. Looking for a perfect gift?\\xa0 Shop the\\xa0online museum store.\\xa0 Looking to make a difference and support the programming at the Reagan Foundation?\\xa0\\xa0Donations are always welcome and appreciated. The foundation does not receive federal funding.  \\xa0-000- \\xa0 \\nSubmit \\n\\n\\n',\n",
       " '\\xa0It’s Saturday! If you’re looking for interesting activities during the current Covid-19 quarantine, here are some suggestions on the Saturday “Gayle on the – STAY AT HOME – Go!” list.  Let me suggest you look at this report, THEN SCROLL DOWN THIS PAGE TO SEE THE COMPLETE LIST OF INTERESTING AND EDUCATIONAL ACTIVITIES.\\xa0 Learn something new. Enjoy. Please stay safe. -000- \\xa0Inside the Walt Disney Archives  Bowers Museum\\xa0at Home Use Your Mobile Device guide.bowers.org Experience “Inside the Walt Disney Archives” at Bowers Museum\\xa0at Home. The brand new “Inside the Walt Disney Archives” exhibition had just opened when the Covid-19 quarantine was imposed. So, Bowers Museum officials have created an online experience until the museum is allowed to reopen. \\xa0the exhibition\\xa0Inside the Walt Disney Archives: 50 Years of Preserving the Magic\\xa0celebrates The Walt Disney Company on the 50th anniversary of its archives, with behind-the-scenes access never before granted to the public. Guests are invited to explore The Walt Disney Archives learn about some of the more than 400 objects, including original artwork, costumes, and props that tell the story of the Archives, The Walt Disney Company, and Walt Disney himself. From nostalgic classics like never-before-displayed sketches for Fantasia and ghouls from the Haunted Mansion attraction, to modern-day favorites like super hero costumes and maquettes from Frozen, this enchanting exhibition is an immersive treasure-trove the entire family will love. Inside the Walt Disney Archives: 50 Years of Preserving the Magic\\xa0is curated by the Walt Disney Archives in conjunction with the Bowers Museum. ***Use Your Mobile Device and enter: guide.bowers.org -0- Rosebud Parade “Happiness is Homemade” Tournament of Roses Hosts Rosebud Parade Complete Guidelines: tournamentofroses.com/events/rosebudparade Send Video to: rosebudparade@tournamentofroses.com\\xa0 The Deadline is Monday, May 11th It’s a 131-year old tradition. Building and decorating a Rose Parade Float for the Tournament of Roses Parade. For the first time ever, we’re invited to the first ever virtual parade, featuring our homemade floats: \\xa0 Build\\xa0your float. Anyone can help. Record\\xa0a video of your float either moving or standing still. \\xa0Talk about theme of your float. For complete guidelines and instructions go to the website:\\xa0https://tournamentofroses.com/events/rosebudparade/ E-mail\\xa0a \\xa0video of your float\\xa0to:\\xa0rosebudparade@tournamentofroses.com\\xa0by Monday, May 11. Tune in\\xa0May 28th to see the virtual homemade Rose Parade on Facebook Live. -0- Stuck-at-Home SCIENCE Activities for Families Using Household Supplies California Science Center californiasciencecenter.org/stuck-at-home-science The “Stuck at Home Science” lessons offered by the California Science Center educate us and teach us how perform all kinds of experiments using household items. We can learn everything from the science and the importance of washing our hands regularly using a lot of soap to how to launch a rocket! \\xa0 Each science activity video has an activity guide so we can try the science project at home using simple household ingredients. To see the variety of California Science Center “STUCK AT HOME” science activities.  -0-\\xa0 “Wash Your Hands!” Downloadable Coloring Book Artist Eric Junker  www.ericjunker.com/download-your-coloring-book  “Wash Your Hands!” Local artist Eric Junker is famous for his murals, posters, and things. Now add this! A downloadable coloring book that reminds us to wash our hands in this age of Covid-19. He delivers the message in several languages.  To get a free copy, go the his website: www.ericjunker.com/download-your-coloring-book \\xa0 \\xa0-0- \\xa0Vanity Fair: Hollywood Calling Audio Tour \\xa0 Annenberg Space for Photography Audio Tour  www.annenbergphotospace.org \\xa0 Hear the voice of Vanity Fair’s Creative Development Editor David Friend giving us a complete audio tour of the exhibition “Vanity Fair : Hollywood Calling.”  Although the Annenberg Space for Photography is closed, we can still enjoy this current exhibition from the couch!  David Friend provides fascinating insight at how some of the publication’s most memorable photographs were made.  To hear more of Friend and to see which selected stories and images he discusses, go to the website: www.annenbergphotospace.org \\xa0\\xa0 -0- Captain Dave’s Virtual Dolphin & Whale Watching Wednesdays at 1:00pm PST DolphinSafari.com Since the Covid-19 quarantine has ended many activities including whale watching, the famous Captain Dave’s Whale Watching and Dolphin Safari is providing weekly virtual tours. Gayle Anderson reports today’s, Earth Day Virtual Dolphin and Whale Watching activities happens at 1pm. We’re invited to get our VITAMIN SEA and chat with Captain Dave live during his Sensorium Cetacean Safari. To participate, go to the website: dolphinsafari.com or their YouTube Channel: https://www.youtube.com/channel/UCa53fMnMax27fsyKBP_ygSA/ \\xa0\\xa0\\xa0 Don’t forget to celebrate your virtual tour with an order of \\xa0“Mrs. Captain Dave’s Triple Fudge Brownies!” To order yours, call 1-949-577-8403! Yum!  https://www.dolphinsafari.com/mrs-capt-daves-triple-fudge-brownies/ -0- Aquarium of the Pacific Online Academy  www.aquariumofpacific.org/news/aquariumacademy The Aquarium of the Pacific is pleased to offer an Online Academy to bring their educational programming as well as fun and entertaining activities to the public during the current closure. Here you will find both on-demand videos and activities for all ages and a schedule of interactive live programs with our educators, from virtual classroom sessions to Pacific Pals puppets. This page will be updated regularly with new content and live dates as they become available.\\u200b ***STREAMING LIVE APRIL 27, 2020,\\xa09:00 AM–9:30 AM*** -0- Online Learning Resources The Marine Mammal Center\\xa0  www.marinemammalcenter.org/education/online-learning-resources  The Marine Mammal Center’s award winning educators are providing NEW online learning resources on a weekly basis intended to aid families and teachers in guiding youth of all ages to learn more about marine mammal health, science and conservation. -0- Virtual Real Estate Tours  Philip A. Coombes: Photography, Video, Aerials, 3D Imaging(626)644-3227Phil@GlobalimagingServices.com We can learn more about Philip Coombes video style of stay at home, social distancing venues at website GlobalImagingServices.com  \\xa0-0- \\xa0The First Ever Global Cars & Coffee Event! 8am LIVE on YouTube  Petersen Automotive Museum For Dates & Themes: Petersen.org/vault  Sunday, April 26th, 2020: The FIRST EVER GLOBAL CARS & COFFEE event at 8am!  We can “STAY AT HOME!” and discover some of the most iconic and rare cars, motorcycles, and trucks spanning more than 120 years of automotive history on the largest guided automotive tour in the United States. Gayle Anderson says we can “STAY AT HOME” and explore the treasures in THE VAULT at the Petersen Automotive Museum in Los Angeles. The tours are not just for car lovers. It’s an educational opportunity to learn about history, politics, and culture For tour schedules and tour themes, please check the website. The virtual tours have specific times and specific themes.  ***SUNDAY, APRIL 26TH, 2020 AT 8AM experience the FIRST EVER “GLOBAL CARS & COFFEE. Every last Sunday of the month, for the last 8 years, the Petersen Automotive Museum has hosted a free cars and coffee event for enthusiasts and the community to come together, talk about cars, drink coffee, and maybe even win an award! This is a tradition they do not want to lose and because of Covid-19, so they had to get creative to keep it going.  This is how it will work. We have opened up the cars and coffee not just to our local LA community but the world by doing it live online on YouTube 26th of April. \\xa0You’ll see enthusiasts from around the globe sharing their stories.  During this premiere event, they will open a poll to vote on the coveted “People’s Choice Award.” Following the poll and brief celebration, they will announce the “Petersen Perfection Award” and “Best in Show.” All awards will be shipped to their owners following the event. They will keep doing these on the last Sunday of every month! They hope you come back to enjoy!  https://www.petersen.org/cars-and-coffee-online  \\xa0-0- Live Streamed on Instagram @mullinmuseum Tuesdays @ 10am Mullin Automotive Museum Compete Prepared with Questions for Chat Feed  We can also “stay-at-home” and tour the prize winning four wheel masterpieces at the Mullin Automotive Museum in Oxnard. \\xa0 We can see some of the 140 vehicles, art and artifacts from the couch! All you have to do is follow the Mullin Museum on its Instagram feed.  -0- Virtual Tour of the Reagan Library (Pre-Renovation) with Host Gary Sinise Ronald Reagan Presidential Library and Museum www.reaganfoundation.org/library-museum/visitor-information/museum-closed-c19 www.youtube.com/watch?v=6Ry_kId1jOY#action=share Let’s learn some history! Take a virtual of the Reagan Presidential Library with award winning actor, director, producer, musician, and philanthropist Gary Sinise (Gary Sinise Foundation: www.garysinisefoundation.org). \\xa0 Due to the announcement of the National Archives and Records Administration made Thursday, March 12, 2020, the Ronald Reagan Presidential Library and Museum is closed to the public as a result of the Covid-19 pandemic. With public safety in mind, the Reagan Foundation will continue to reassess the situation and will work to re-open its facilities as soon as possible. The closing of the Reagan Museum includes the cancellation of any events scheduled at the Reagan Library. All of their online operations are still open. Looking for a perfect gift?\\xa0 Shop the\\xa0online museum store.\\xa0 Looking to make a difference and support the programming at the Reagan Foundation?\\xa0\\xa0Donations are always welcome and appreciated. The foundation does not receive federal funding.  -000- \\xa0',\n",
       " 'Jose Santoyo of Riverside succumbed from COVID-19 earlier this week, two days after making it to 61 years old, according to his family. He’s one of at least 117 people who have died of the coronavirus in Riverside County. Santoyo moved to the U.S. at 29 years old for a better future for himself and his wife and went on to have six children, his daughter Kristenn Santoyo said.  He held two jobs, one at a farm and another at a plumbing manufacturer, when he arrived to the U.S. He then spent 26 years as an electrician who worked on Riverside Transit Agency buses until 2015, when he had to have his leg amputated due to complications from diabetes, according to his family. Kristenn Santoyo described her father as a family man, a grandfather to 12 and a father figure to her own two children.  “His home was the Friday night hang out, from barbecues to family parties,” said Kristenn, who started a GoFundMe page for his funeral expenses. “He was always excited because the family was coming over, he was a very hard worker, and loved us all through our wild years and never gave up on anyone in his family.” She added, “My father was the embodiment of unconditional love. He always had a kind, heartwarming smile on his face and for that he will always be remembered.” According to the latest information from state officials, COVID-19 has killed at least 1,651 people in California. More than 41,000 positive cases have been confirmed in the state.  In a recent press conference, Gov. Gavin Newsom remarked that the patients who have died are not merely “statistics.”  “These are human beings, stories, journeys — each and every one of them precious. And our heart goes out to their families and loved ones,” Newsom said.  \\nSubmit \\n\\n\\n',\n",
       " 'A lingering heat wave lured people to California beaches, rivers and trails again Sunday, prompting warnings from officials that defiance of stay-at-home orders could reverse progress and bring the coronavirus surging back. Tens of thousands of people packed the sand at Newport Beach in Orange County, where residents compared weekend crowds to July 4 and lifeguards reminded people to stay apart if they were in groups of six or more. City officials announced Sunday that the City Council will hold a special meeting Tuesday to discuss issues including temporary weekend beach closures. Neighboring Huntington Beach also saw big gatherings, despite the closure of beach parking lots and metered parking restricted along Pacific Coast Highway. Robin Ford, a resident of the coastal city known for its pier, surveyed the crush of visitors with concern. “Our beach is so big, that I feel people can distance themselves — but it’s a lot more crowded today,” Ford told the\\xa0Orange County Register\\xa0on Saturday. “Unless all these people are in one household, it does look like they are not social distancing. They could be spread out more.” Weekend temperatures reached the 80s and 90s in much of the state. While most recreation remains shuttered under various orders, officials were wary that those still open could draw people who will ignore rules to stay separated and seek sun and air after being mainly confined indoors for more than a month. Los Angeles city and county beaches, trails and playgrounds were closed, and officers on horseback were patrolling those areas to enforce social distancing rules. “We won’t let one weekend undo a month of progress. While the sunshine is tempting, we’re staying home to save lives,” Garcetti tweeted Sunday. “The places we love — our beaches, hiking trails — will still be there when this is over. And by staying home, we’re making sure our loved ones will be too.” To the north, police in Pacific Grove said they had to close the picturesque Lovers Point Park and Beach at the southern end of Monterey Bay because of a lack of social distancing. Most people who flocked to the East Bay Regional Park District’s nearly 125,000 acres (195 square miles) of park land east of San Francisco followed social distancing guidelines, but some people ignored the signs and gathered in large groups, the district’s general manager told the S\\xa0an Francisco Chronicle. The biggest violators refused to leave closed picnic areas when asked, Robert Doyle said. Police closed parking lots in Sausalito to deter people who flocked to the popular seaside town across the Golden Gate Bridge from San Francisco. Police said the lots will be closed on weekends and holidays until further notice because of “widespread disregard for non-essential travel restrictions.” In Sacramento, boats crowded the water at Discovery Park and many families set up blankets and chairs by the riverside. “We want to continue to remind the community that yes, the weather is nice, but COVID-19 is still around, and we’ve been making some great progress,” Sacramento County Sheriff’s Deputy Zaheem Buksh told\\xa0KCRA-TV. “So let’s continue to make that progress by practicing social distancing.” California has had more than 42,500 coronavirus cases and nearly 1,700 deaths, more than half of them in the Los Angeles area, according to data compiled by Johns Hopkins University. However, the number of infections is thought to be far higher because many people have not been tested, and studies suggest people can be infected with the virus without feeling sick. Last week, health officials announced a Santa Clara County woman died in early February from COVID-19 — weeks before the first previously known U.S. death from the virus. An autopsy released by the county Saturday concluded she suffered a massive heart attack caused by coronavirus infection, which also spread to her trachea, lungs and intestines. San Francisco Mayor London Breed said more than a month into the crisis the Bay Area still faces shortages of personal protective equipment and testing kits. It’s causing challenges that will exacerbate if the virus surges back, she said. “We have known that this crisis was coming to our country for a long time now, and the fact is that as of April, we’re still having the same conversations about the challenges,” Breed said Sunday on CBS News’ “Face the Nation.” “I know that most cities are seeing the same data I’m seeing that if we do absolutely nothing, it gets worse.” For most people, the virus causes mild or moderate symptoms, such as fever and cough that clear up in two to three weeks. For some, especially older adults and people with existing health problems, it can cause more severe illness and death. Cases continue to grow in California but at a manageable pace that hasn’t overwhelmed hospitals, health authorities have said. State and local stay-at-home orders have been cited as successfully slowing the rise in coronavirus hospitalizations and deaths. Recent polls show Californians overwhelmingly support them. There have been small protests by people who want to reopen the state, contending their liberty and livelihoods are at stake. Three people were arrested at a rally Saturday in Encinitas, just north of San Diego, and cited for violating health orders, Sheriff’s Lt. Ricardo Lopez said. KTLA’s Brian Day contributed to this report. A special City Council meeting has been scheduled for 3 p.m. Tuesday, April 28 with 3 agenda items related to coronavirus response and recovery, including developing a  committee to guide business reopening and temporary weekend beach closures. For more: https://t.co/zxsu661QaH. \\nSubmit \\n\\n\\n',\n",
       " 'An accident during morning training Friday is the suspected cause of the death of a 12th horse at Santa Anita since the racing season was scheduled to begin Dec. 26. Last Renegade, an unraced 2-year-old colt, was out for morning training when he unseated his rider. The horse was running loose and his saddle slipped backward and he bucked, causing him to get tangled up in his reins, according to the track. During that time, he made contact with the inside safety rail. The colt was caught by an outrider and transported back to a barn. While he was being examined by a veterinarian, he died of an unknown injury. As is standard, a necropsy will be performed. Even though the track is closed for racing because of\\xa0the COVID-19 pandemic,\\xa0Santa Anita is open\\xa0for training and workouts in the morning. Since March 22, the last day of racing at the track, there have been 3,258 timed workouts and tens of thousands of training sessions, where horses go on the track and gallop or jog. Read the full story on LATimes.com. \\nSubmit \\n\\n\\n',\n",
       " 'A 68-year-old man with a “diminished mental capacity” who went missing in Rowland Heights on Thursday was reunited with his family Saturday night, with help from some amateur internet detectives, authorities said. Adrian Enrique vanished about 9:30 a.m. after last being seen in the 1400 block of Gloriosa Avenue, according to Los Angeles County Sheriff’s Department Deputy Eric Ortiz. “Mr. Enrique has a diminished mental capacity,” Ortiz said in a written statement. “His loved ones have not seen or heard from him. They are very concerned and asking for the public’s help.” About an hour after reaching out to the public, sheriff’s officials reported the man had been found. It turned out he had been in the custody of the California Highway Patrol since Friday as officers worked to find his family. Shortly after the missing persons flier was distributed online, amateur online sleuths began to point out that the photo of the missing man strongly resembled a man in another flier released by the California Highway Patrol’s Santa Fe Springs-area office on Thursday. The man pictured in the CHP flier had been found, barefoot and disoriented, walking along the right shoulder of the eastbound 60 Freeway near Azusa Avenue on Thursday morning. “He says his name is Adrian Esquivel with a birth month of December, (1950),” the CHP flier stated. Thank you for everyone’s interest and support in locating Mr. Adrians family!! 🙌🙏 pic.twitter.com/MQDKden8pD  🚨 April 25 update – still looking to contact this gentleman’s family. We need the public’s help locating family or additional information of this gentleman. He says his name is Adrian Esquivel with a birth month of December (12/1950). He was located this morning on the right shoulder of SR-60 eastbound, west of Azusa Ave (barefoot). Please comment below if you have info or call (562) 868-0503 and ask for Ofc. Iñiguez 🚨 @knbc4 @ktla5news @foxla @knx1070 @chp_southerndivision @chp_baldwinpark @chp_westvalley @chp_south_la @chp_eastlosangeles @chp_centrallosangeles @chp_westlosangeles @chp_inlanddivision @lasdhq A post shared by  CHP Santa Fe Springs (@chp_santa_fe_springs) on Apr 24, 2020 at 9:23am PDT  \\nSubmit \\n\\n\\n',\n",
       " 'Several months into a legal dispute over his notes, William “Rick” Singer,\\xa0the man at the center of the college admissions scandal, has offered his explanation for a series of iPhone missives he wrote while cooperating with an investigation into the money-for-admissions scam he perpetrated for a decade. As he tried in October 2018 to\\xa0elicit incriminating statements from his former clients in recorded phone calls, Singer wrote in a note, intended for his lawyer, that the federal agents overseeing his cooperation wanted him to “bend the truth” and “ask questions and retrieve responses that are not accurate.” Attorneys for 14 parents who have pleaded not guilty to conspiring with Singer to commit fraud, bribery and money laundering have seized on the notes, accusing government authorities of browbeating Singer into following their theory — that payments they made to get their children into elite universities were bribes to corrupt employees, not legitimate donations to university accounts. At his handlers’ direction, Singer fabricated evidence he knew to be inaccurate, the attorneys alleged in asking U.S. District Judge Nathaniel M. Gorton to dismiss the indictment. Currently, seven defendants — among them, Lori Loughlin, a television actress, and her husband, Mossimo Giannulli, a fashion designer — are scheduled to begin trial Oct. 5 in Boston. Another seven are slated for trial in January. Read the full story on LATimes.com. \\nSubmit \\n\\n\\n',\n",
       " 'Retired Los Angeles Dodgers broadcaster Vin Scully is back home after falling and being hospitalized. The team quoted Scully on Twitter Saturday saying, “I’m home and resting comfortably with my wife and we are both eagerly awaiting the Time for Dodger Baseball!” That’s a phrase announced before the start of every Dodgers home game. The 92-year-old fell Tuesday at his Los Angeles-area home. Scully thanked the Los Angeles County Fire Department and the staff, doctors and nurses at the hospital. “I am so eternally grateful for their help and selfless service,” the tweet said. Scully retired after the 2016 season, ending a career in which he called Dodgers games for 67 years. He began in 1950 when the team was located in Brooklyn. He was inducted into the Baseball Hall of Fame in 1982 and received the Presidential Medal of Freedom in 2016. An update from Vin Scully: “My sincerest thanks to the LA County Firemen and women who come to the rescue and always seem to be there when we need and to the excellent administration, doctors and nurses of Los Robles Hospital.” \\nSubmit \\n\\n\\n',\n",
       " 'A 59-year-old Riverside doctor says he nearly died from the novel coronavirus but believes the Remdesivir trial drug saved his life.  Anoop Maheshwari, a pulmonary and critical care specialist at Parkview Hospital, believes he was infected with the virus by a 35-year-old patient in early April. “I did wear all the appropriate gear,” he said. And yet, he tested positive for the coronavirus. Maheshwari says he started to grow weak and tired but thought he was just over-worked. He admits now that he was in denial that he had the virus. Eventually, Maheshwari knew he needed professional help and he was admitted into the hospital he works at. Then he was transferred to Hoag Hospital in Newport Beach, where a clinical trial was underway with a drug called Remdesivir. “I was struggling to breathe, very short of breath,” he said. “It was a very miserable experience.” Maheshwari qualified for the trial because of his severe condition and since he was experiencing rapid deterioration. “I really didn’t think I was going to come out of it,” he said. “I called my family. I really told them that this was goodbye and I expressed some of my wishes that I wanted after I was gone.”  Meanwhile, his longtime friend and colleague, Dr. Adrash Sharma, was treating him. “I told him I’m not going to make it,” Maheshwari told Sharma. “I could see the tears in his eyes. He looked me straight in the eye and he [said] ‘You have to fight for me, you cannot give up on me.’ Those words resonated in my head.” Slowly, Maheshwari began to see some improvement and eventually, a homecoming he never expected. Although he still has shortness of breath, he is improving and returned home on April 20. “There is some hope for the Remdesivir, I believe, though I may have a personal bias since it saved my life,” he said.  Remdesivir is set to go through a second phase of clinical trial. \\nSubmit \\n\\n\\n']"
      ]
     },
     "execution_count": 72,
     "metadata": {},
     "output_type": "execute_result"
    }
   ],
   "source": [
    "desc\n"
   ]
  },
  {
   "cell_type": "code",
   "execution_count": 84,
   "metadata": {},
   "outputs": [],
   "source": [
    "cols = ['Title', 'Description', 'Tag','Link']\n",
    "\n",
    "ktla = pd.DataFrame({'Title':titles,  'Description':desc, 'Tag':tags, 'Link':links})[cols]\n",
    "\n",
    "ktla.to_excel('ktla.xls')\n"
   ]
  },
  {
   "cell_type": "code",
   "execution_count": null,
   "metadata": {},
   "outputs": [],
   "source": []
  },
  {
   "cell_type": "code",
   "execution_count": null,
   "metadata": {},
   "outputs": [],
   "source": []
  }
 ],
 "metadata": {
  "kernelspec": {
   "display_name": "Python 3",
   "language": "python",
   "name": "python3"
  },
  "language_info": {
   "codemirror_mode": {
    "name": "ipython",
    "version": 3
   },
   "file_extension": ".py",
   "mimetype": "text/x-python",
   "name": "python",
   "nbconvert_exporter": "python",
   "pygments_lexer": "ipython3",
   "version": "3.7.4"
  }
 },
 "nbformat": 4,
 "nbformat_minor": 2
}
