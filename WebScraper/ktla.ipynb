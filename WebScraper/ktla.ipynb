{
 "cells": [
  {
   "cell_type": "code",
   "execution_count": 5,
   "metadata": {},
   "outputs": [],
   "source": [
    "from bs4 import BeautifulSoup\n",
    "import requests\n",
    "import numpy as np\n",
    "import time\n",
    "import pandas as pd\n",
    "\n",
    "titles=[]\n",
    "tags=[]\n",
    "desc=[]\n",
    "time=[]\n",
    "author=[]\n",
    "links=[]"
   ]
  },
  {
   "cell_type": "code",
   "execution_count": 6,
   "metadata": {},
   "outputs": [],
   "source": [
    "url = \"https://ktla.com/news/local-news/\""
   ]
  },
  {
   "cell_type": "code",
   "execution_count": 15,
   "metadata": {},
   "outputs": [
    {
     "data": {
      "text/plain": [
       "200"
      ]
     },
     "execution_count": 15,
     "metadata": {},
     "output_type": "execute_result"
    }
   ],
   "source": [
    "r1 = requests.get(url)\n",
    "r1.status_code"
   ]
  },
  {
   "cell_type": "code",
   "execution_count": 14,
   "metadata": {},
   "outputs": [],
   "source": [
    "article = r1.content\n",
    "soup1 = BeautifulSoup(article,'html.parser')\n",
    "article_news = soup1.find_all('article',class_='article-list__article article-list__article--is-slat article-list__article--has-thumb article-list__article--is-media-type')"
   ]
  },
  {
   "cell_type": "code",
   "execution_count": 11,
   "metadata": {},
   "outputs": [],
   "source": [
    "for n in range(0,len(article_news)):\n",
    "    link = article_news[n].find('a')['href']\n",
    "    links.append(link)\n",
    "    \n",
    "    title = article_news[n].find('a').get_text()\n",
    "    titles.append(title)\n",
    "    \n",
    "    tag = article_news[n].find('footer').get_text()\n",
    "    tags.append(tag)\n",
    "    \n",
    "    details = requests.get(link)\n",
    "    details_content = details.content\n",
    "    soup2 = BeautifulSoup(details_content, 'html.parser')\n",
    "    descs = soup2.find_all('div', class_='article-content rich-text')\n",
    "    x = descs[0].find_all('p')\n",
    "    \n",
    "    list_paragraphs = []\n",
    "    for p in np.arange(0, len(x)):\n",
    "        paragraph = x[p].get_text()\n",
    "        list_paragraphs.append(paragraph)\n",
    "        final_article = \" \".join(list_paragraphs)\n",
    "    desc.append(final_article)"
   ]
  },
  {
   "cell_type": "code",
   "execution_count": 84,
   "metadata": {},
   "outputs": [],
   "source": [
    "cols = ['Title', 'Description', 'Tag','Link']\n",
    "\n",
    "ktla = pd.DataFrame({'Title':titles,  'Description':desc, 'Tag':tags, 'Link':links})[cols]\n",
    "\n",
    "ktla.to_excel('ktla.xls')\n"
   ]
  },
  {
   "cell_type": "code",
   "execution_count": null,
   "metadata": {},
   "outputs": [],
   "source": []
  },
  {
   "cell_type": "code",
   "execution_count": null,
   "metadata": {},
   "outputs": [],
   "source": []
  }
 ],
 "metadata": {
  "kernelspec": {
   "display_name": "Python 3",
   "language": "python",
   "name": "python3"
  },
  "language_info": {
   "codemirror_mode": {
    "name": "ipython",
    "version": 3
   },
   "file_extension": ".py",
   "mimetype": "text/x-python",
   "name": "python",
   "nbconvert_exporter": "python",
   "pygments_lexer": "ipython3",
   "version": "3.7.4"
  }
 },
 "nbformat": 4,
 "nbformat_minor": 2
}
